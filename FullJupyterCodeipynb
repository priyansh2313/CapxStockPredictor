{
  "cells": [
    {
      "cell_type": "markdown",
      "source": [
        "DATA SCRAPING"
      ],
      "metadata": {
        "id": "82KTVYxTMGY2"
      }
    },
    {
      "cell_type": "code",
      "execution_count": null,
      "metadata": {
        "id": "cB-NEMP1VjZc"
      },
      "outputs": [],
      "source": [
        "pip install praw"
      ]
    },
    {
      "cell_type": "code",
      "execution_count": null,
      "metadata": {
        "id": "NVOjqfybd4hP"
      },
      "outputs": [],
      "source": [
        "import praw\n",
        "\n",
        "reddit = praw.Reddit(client_id='dso-2wKoiaavUz1AoA3BCQ',\n",
        "                     client_secret='NkN503DNQF3R5aNrW9ebO_WC1TqEAA',\n",
        "                     user_agent='StockDataScraper v1.0')\n",
        "\n",
        "subreddits = ['stocks', 'investing', 'wallstreetbets', 'stockmarket', 'financialindependence']\n",
        "\n",
        "for subreddit_name in subreddits:\n",
        "    subreddit = reddit.subreddit(subreddit_name)\n",
        "\n",
        "    print(f\"Fetching posts from subreddit: {subreddit_name}\")\n",
        "\n",
        "    top_posts = subreddit.top(limit=500)\n",
        "\n",
        "    for post in top_posts:\n",
        "        print(f\"Title: {post.title}\")\n",
        "        print(f\"Text: {post.selftext}\")\n",
        "        print(f\"Score: {post.score}\")\n",
        "        print(f\"URL: {post.url}\")\n",
        "        print('-' * 80)\n"
      ]
    },
    {
      "cell_type": "code",
      "execution_count": null,
      "metadata": {
        "id": "ZJmzYkzXV-yj"
      },
      "outputs": [],
      "source": [
        "subreddits = ['stocks', 'investing', 'StockMarket', 'wallstreetbets', 'finance']\n",
        "\n",
        "all_posts = []\n",
        "\n",
        "for subreddit in subreddits:\n",
        "    print(f\"Fetching posts from r/{subreddit}...\")\n",
        "    posts = reddit.subreddit(subreddit).search('stock', limit=2000)\n",
        "    for post in posts:\n",
        "        all_posts.append({\n",
        "            'Title': post.title,\n",
        "            'Author': post.author.name if post.author else 'N/A',\n",
        "            'Upvotes': post.score,\n",
        "            'Comments': post.num_comments,\n",
        "            'Created': post.created_utc,\n",
        "            'URL': post.url\n",
        "        })\n"
      ]
    },
    {
      "cell_type": "code",
      "execution_count": null,
      "metadata": {
        "colab": {
          "base_uri": "https://localhost:8080/"
        },
        "id": "P74pkBAFWH6R",
        "outputId": "116837d4-44a7-431b-c441-72caa5a2b28d"
      },
      "outputs": [
        {
          "output_type": "stream",
          "name": "stdout",
          "text": [
            "Collected 1157 posts across all subreddits.\n"
          ]
        }
      ],
      "source": [
        "\n",
        "import pandas as pd\n",
        "\n",
        "\n",
        "df = pd.DataFrame(all_posts)\n",
        "\n",
        "\n",
        "df.to_csv('reddit_combined_posts.csv', index=False)\n",
        "print(f\"Collected {len(df)} posts across all subreddits.\")\n"
      ]
    },
    {
      "cell_type": "code",
      "execution_count": null,
      "metadata": {
        "id": "hZpJGyGpWLwx"
      },
      "outputs": [],
      "source": [
        "import pandas as pd\n",
        "\n",
        "data=pd.read_csv('/content/reddit_combined_posts.csv')\n",
        "data.head()"
      ]
    },
    {
      "cell_type": "markdown",
      "source": [
        "EXPLPORATORY DATA ANALYSIS"
      ],
      "metadata": {
        "id": "JYtuSh0cMRsH"
      }
    },
    {
      "cell_type": "code",
      "execution_count": null,
      "metadata": {
        "colab": {
          "base_uri": "https://localhost:8080/",
          "height": 272
        },
        "id": "zOE625HvWP1C",
        "outputId": "5e4679df-fc79-4e23-f80e-47093b3ad9e0"
      },
      "outputs": [
        {
          "output_type": "execute_result",
          "data": {
            "text/plain": [
              "Title       0\n",
              "Author      0\n",
              "Upvotes     0\n",
              "Comments    0\n",
              "Created     0\n",
              "URL         0\n",
              "dtype: int64"
            ],
            "text/html": [
              "<div>\n",
              "<style scoped>\n",
              "    .dataframe tbody tr th:only-of-type {\n",
              "        vertical-align: middle;\n",
              "    }\n",
              "\n",
              "    .dataframe tbody tr th {\n",
              "        vertical-align: top;\n",
              "    }\n",
              "\n",
              "    .dataframe thead th {\n",
              "        text-align: right;\n",
              "    }\n",
              "</style>\n",
              "<table border=\"1\" class=\"dataframe\">\n",
              "  <thead>\n",
              "    <tr style=\"text-align: right;\">\n",
              "      <th></th>\n",
              "      <th>0</th>\n",
              "    </tr>\n",
              "  </thead>\n",
              "  <tbody>\n",
              "    <tr>\n",
              "      <th>Title</th>\n",
              "      <td>0</td>\n",
              "    </tr>\n",
              "    <tr>\n",
              "      <th>Author</th>\n",
              "      <td>0</td>\n",
              "    </tr>\n",
              "    <tr>\n",
              "      <th>Upvotes</th>\n",
              "      <td>0</td>\n",
              "    </tr>\n",
              "    <tr>\n",
              "      <th>Comments</th>\n",
              "      <td>0</td>\n",
              "    </tr>\n",
              "    <tr>\n",
              "      <th>Created</th>\n",
              "      <td>0</td>\n",
              "    </tr>\n",
              "    <tr>\n",
              "      <th>URL</th>\n",
              "      <td>0</td>\n",
              "    </tr>\n",
              "  </tbody>\n",
              "</table>\n",
              "</div><br><label><b>dtype:</b> int64</label>"
            ]
          },
          "metadata": {},
          "execution_count": 10
        }
      ],
      "source": [
        "data.isnull().sum()"
      ]
    },
    {
      "cell_type": "code",
      "execution_count": null,
      "metadata": {
        "id": "jk2F0VsWWSUZ"
      },
      "outputs": [],
      "source": [
        "import pandas as pd\n",
        "\n",
        "df = pd.read_csv('reddit_combined_posts.csv')\n",
        "\n",
        "print(df.head())\n",
        "\n",
        "print(df.info())\n",
        "\n",
        "print(df.isnull().sum())\n",
        "\n",
        "df = df.drop_duplicates()\n",
        "\n",
        "df = df.dropna(subset=['Title'])\n",
        "\n",
        "print(f\"Dataset after cleaning has {len(df)} entries.\")\n"
      ]
    },
    {
      "cell_type": "markdown",
      "source": [
        "APPLYING PREPROCESSING TO TITLE COLUMN"
      ],
      "metadata": {
        "id": "RcF1kGMnMi1f"
      }
    },
    {
      "cell_type": "code",
      "execution_count": null,
      "metadata": {
        "id": "r2-EYm38WW7N"
      },
      "outputs": [],
      "source": [
        "import pandas as pd\n",
        "import spacy\n",
        "\n",
        "nlp = spacy.load(\"en_core_web_sm\")\n",
        "\n",
        "df = pd.read_csv('reddit_combined_posts.csv')\n",
        "\n",
        "df = df.dropna(subset=['Title'])\n",
        "\n",
        "def preprocess_text_spacy(text):\n",
        "    doc = nlp(text)\n",
        "\n",
        "    tokens = [token.lemma_ for token in doc if not token.is_stop and token.is_alpha]\n",
        "\n",
        "    return \" \".join(tokens)\n",
        "\n",
        "df['Cleaned_Title'] = df['Title'].apply(preprocess_text_spacy)\n",
        "\n",
        "print(df[['Title', 'Cleaned_Title']].head())\n"
      ]
    },
    {
      "cell_type": "markdown",
      "metadata": {
        "id": "lzLXfzdBWnOW"
      },
      "source": [
        "SENTIMENT ANALYSIS"
      ]
    },
    {
      "cell_type": "code",
      "execution_count": null,
      "metadata": {
        "id": "zv_qWaF4WiMx"
      },
      "outputs": [],
      "source": [
        "from textblob import TextBlob\n",
        "\n",
        "df['Sentiment_Polarity'] = df['Cleaned_Title'].apply(lambda x: TextBlob(x).sentiment.polarity)\n",
        "\n",
        "print(df[['Cleaned_Title', 'Sentiment_Polarity']].head())\n",
        "\n",
        "import matplotlib.pyplot as plt\n",
        "plt.hist(df['Sentiment_Polarity'], bins=20, edgecolor='k')\n",
        "plt.title('Distribution of Sentiment Polarity')\n",
        "plt.xlabel('Sentiment Polarity')\n",
        "plt.ylabel('Frequency')\n",
        "plt.show()\n"
      ]
    },
    {
      "cell_type": "markdown",
      "metadata": {
        "id": "BgALiRO9XBY5"
      },
      "source": [
        "EXTRACTING FEATURES RELEVANT TO STOCK MARKET"
      ]
    },
    {
      "cell_type": "code",
      "execution_count": null,
      "metadata": {
        "id": "MtD1AOhYW-SL"
      },
      "outputs": [],
      "source": [
        "df['Word_Count'] = df['Cleaned_Title'].apply(lambda x: len(x.split()))\n",
        "\n",
        "df['Normalized_Upvotes'] = (df['Upvotes'] - df['Upvotes'].mean()) / df['Upvotes'].std()\n",
        "\n",
        "df['Comment_Upvote_Ratio'] = df['Comments'] / (df['Upvotes'] + 1)\n",
        "\n",
        "print(df[['Cleaned_Title', 'Word_Count', 'Normalized_Upvotes', 'Comment_Upvote_Ratio']].head())\n",
        "\n",
        "import seaborn as sns\n",
        "import matplotlib.pyplot as plt\n",
        "\n",
        "plt.figure(figsize=(8, 6))\n",
        "sns.heatmap(df[['Sentiment_Polarity', 'Word_Count', 'Normalized_Upvotes', 'Comment_Upvote_Ratio']].corr(), annot=True, cmap='coolwarm')\n",
        "plt.title(\"Feature Correlation Heatmap\")\n",
        "plt.show()\n"
      ]
    },
    {
      "cell_type": "markdown",
      "metadata": {
        "id": "-g4jWMyiYE03"
      },
      "source": [
        "ADDING LABEL COLUMN"
      ]
    },
    {
      "cell_type": "code",
      "execution_count": null,
      "metadata": {
        "colab": {
          "base_uri": "https://localhost:8080/"
        },
        "id": "DXuagomWYAOA",
        "outputId": "11f15480-d006-4b51-b875-2f89ecd5b362"
      },
      "outputs": [
        {
          "output_type": "stream",
          "name": "stdout",
          "text": [
            "Label column created successfully!\n",
            "                                               Title  Sentiment_Polarity  \\\n",
            "0             Which stock is hidding in plain sight?           -0.214286   \n",
            "1  I think Alphabet (GOOGL) is the most undervalu...            0.285714   \n",
            "2                What’s your favorite stock and why?            0.500000   \n",
            "3  Starbucks giving incoming CEO Niccol $85M in c...            0.000000   \n",
            "4  Microsoft announces $60 billion stock buyback ...            0.000000   \n",
            "\n",
            "   Label  \n",
            "0     -1  \n",
            "1      1  \n",
            "2      1  \n",
            "3      0  \n",
            "4      0  \n"
          ]
        }
      ],
      "source": [
        "def create_labels(row):\n",
        "    if row['Sentiment_Polarity'] > 0.1:\n",
        "        return 1  # Positive label\n",
        "    elif row['Sentiment_Polarity'] < -0.1:\n",
        "        return -1  # Negative label\n",
        "        return 0  # Neutral label\n",
        "\n",
        "df['Label'] = df.apply(create_labels, axis=1)\n",
        "print(\"Label column created successfully!\")\n",
        "print(df[['Title', 'Sentiment_Polarity', 'Label']].head())\n"
      ]
    },
    {
      "cell_type": "markdown",
      "source": [
        "PREPARING THE MODEL AND CONFUSION MATRIX"
      ],
      "metadata": {
        "id": "EQLHoS5qiifg"
      }
    },
    {
      "cell_type": "code",
      "execution_count": null,
      "metadata": {
        "id": "mKdZbDzAYd3z",
        "collapsed": true
      },
      "outputs": [],
      "source": [
        "from sklearn.model_selection import train_test_split\n",
        "from sklearn.ensemble import RandomForestClassifier\n",
        "from sklearn.metrics import classification_report, accuracy_score, confusion_matrix\n",
        "import seaborn as sns\n",
        "\n",
        "features = ['Sentiment_Polarity', 'Word_Count', 'Normalized_Upvotes', 'Comment_Upvote_Ratio']\n",
        "target = 'Label'\n",
        "\n",
        "X = df[features]\n",
        "y = df[target]\n",
        "X_train, X_test, y_train, y_test = train_test_split(X, y, test_size=0.2, random_state=42)\n",
        "\n",
        "rf_model = RandomForestClassifier(random_state=42, n_estimators=100)\n",
        "rf_model.fit(X_train, y_train)\n",
        "\n",
        "y_pred = rf_model.predict(X_test)\n",
        "\n",
        "accuracy = accuracy_score(y_test, y_pred)\n",
        "print(f\"Model Accuracy: {accuracy * 100:.2f}%\")\n",
        "\n",
        "print(\"\\nClassification Report:\")\n",
        "print(classification_report(y_test, y_pred, target_names=['Negative', 'Neutral', 'Positive']))\n",
        "\n",
        "conf_matrix = confusion_matrix(y_test, y_pred)\n",
        "plt.figure(figsize=(6, 4))\n",
        "sns.heatmap(conf_matrix, annot=True, fmt='d', cmap='Blues', xticklabels=['Negative', 'Neutral', 'Positive'], yticklabels=['Negative', 'Neutral', 'Positive'])\n",
        "plt.title(\"Confusion Matrix\")\n",
        "plt.xlabel(\"Predicted Label\")\n",
        "plt.ylabel(\"True Label\")\n",
        "plt.show()\n"
      ]
    },
    {
      "cell_type": "markdown",
      "source": [
        "SAVING THE MODEL"
      ],
      "metadata": {
        "id": "eYnixURjj_IH"
      }
    },
    {
      "cell_type": "code",
      "source": [
        "import pickle\n",
        "pickle.dump(rf_model,open('Stock_model.pkl','wb'))\n",
        "\n",
        "print(\"model successfully saved\")\n",
        "\n"
      ],
      "metadata": {
        "id": "ZZic8JdcjI2t"
      },
      "execution_count": null,
      "outputs": []
    },
    {
      "cell_type": "markdown",
      "source": [
        "TESTING ON HISTORICAL DATA"
      ],
      "metadata": {
        "id": "9xXY7o6boMkN"
      }
    },
    {
      "cell_type": "code",
      "source": [
        "!pip install yfinance pandas matplotlib scikit-learn\n",
        "import yfinance as yf\n",
        "import pandas as pd\n",
        "import numpy as np\n",
        "import matplotlib.pyplot as plt\n",
        "from sklearn.model_selection import train_test_split\n",
        "from sklearn.ensemble import RandomForestClassifier\n",
        "from sklearn.metrics import accuracy_score, classification_report\n"
      ],
      "metadata": {
        "id": "EYtgfT4PhcM8"
      },
      "execution_count": null,
      "outputs": []
    },
    {
      "cell_type": "code",
      "source": [
        "import yfinance as yf\n",
        "\n",
        "ticker = \"AAPL\"\n",
        "start_date = \"2010-01-01\"\n",
        "end_date = \"2024-12-31\"\n",
        "\n",
        "stock_data = yf.download(ticker, start=start_date, end=end_date)\n",
        "\n",
        "print(stock_data.index.min(), \"to\", stock_data.index.max())\n"
      ],
      "metadata": {
        "id": "Naa9YbN7hf5k"
      },
      "execution_count": null,
      "outputs": []
    },
    {
      "cell_type": "code",
      "source": [
        "import pandas as pd\n",
        "\n",
        "reddit_data = pd.read_csv('reddit_combined_posts.csv')\n",
        "\n",
        "\n",
        "print(reddit_data.head())\n"
      ],
      "metadata": {
        "id": "D7tGIe2BnUlV"
      },
      "execution_count": null,
      "outputs": []
    },
    {
      "cell_type": "markdown",
      "source": [
        "CONVERTING THE UNIX TIMESTAMP TO DATETIME"
      ],
      "metadata": {
        "id": "t87qksmBuhuO"
      }
    },
    {
      "cell_type": "code",
      "source": [
        "reddit_data['Created_Date'] = pd.to_datetime(reddit_data['Created'], unit='s')\n",
        "\n",
        "reddit_data['Created_Date'] = reddit_data['Created_Date'].dt.normalize()\n",
        "\n",
        "print(reddit_data[['Created_Date']].head())\n"
      ],
      "metadata": {
        "id": "13sf6EGpoXc7"
      },
      "execution_count": null,
      "outputs": []
    },
    {
      "cell_type": "code",
      "source": [
        "stock_data.index = stock_data.index.normalize()\n",
        "\n",
        "print(stock_data.index[:10])\n"
      ],
      "metadata": {
        "id": "vaqTJuCFoaal"
      },
      "execution_count": null,
      "outputs": []
    },
    {
      "cell_type": "markdown",
      "source": [
        "CHECKING WHETHER THE REDDIT POSTS ARE NORMALIZED TOO"
      ],
      "metadata": {
        "id": "3tbnjLCRutNt"
      }
    },
    {
      "cell_type": "code",
      "source": [
        "print(reddit_data['Created_Date'].head())\n"
      ],
      "metadata": {
        "id": "9gH8aCo0qU0V"
      },
      "execution_count": null,
      "outputs": []
    },
    {
      "cell_type": "markdown",
      "source": [
        "CHECKING STOCK DATA IS IN DATETIME FORMAT"
      ],
      "metadata": {
        "id": "uycql4RhuzCt"
      }
    },
    {
      "cell_type": "code",
      "source": [
        "stock_data.index = pd.to_datetime(stock_data.index).normalize()\n",
        "\n",
        "print(stock_data.index[:10])\n"
      ],
      "metadata": {
        "id": "Pz_T4G-1qpba"
      },
      "execution_count": null,
      "outputs": []
    },
    {
      "cell_type": "code",
      "source": [
        "print(reddit_data['Created_Date'].head())\n"
      ],
      "metadata": {
        "id": "0E8HPJooqr4H"
      },
      "execution_count": null,
      "outputs": []
    },
    {
      "cell_type": "code",
      "source": [
        "def get_closest_stock_price(date, stock_data):\n",
        "    closest_date = min(stock_data.index, key=lambda x: abs(x - date))\n",
        "    return stock_data.loc[closest_date, 'Close']\n"
      ],
      "metadata": {
        "id": "s6qV20slq9-3"
      },
      "execution_count": null,
      "outputs": []
    },
    {
      "cell_type": "code",
      "source": [
        "reddit_data['Created_Date'] = reddit_data['Created_Date'].dt.tz_localize(None)\n",
        "\n",
        "stock_data.index = stock_data.index.tz_localize(None)\n",
        "\n",
        "def get_closest_stock_price(date, stock_data):\n",
        "    closest_date = min(stock_data.index, key=lambda x: abs(x - date))\n",
        "    return stock_data.loc[closest_date, 'Close']\n",
        "\n",
        "reddit_data['Stock_Price'] = reddit_data['Created_Date'].apply(\n",
        "    lambda x: get_closest_stock_price(x, stock_data) if x not in stock_data.index else stock_data.loc[x, 'Close']\n",
        ")\n",
        "\n",
        "\n",
        "print(reddit_data[['Created_Date', 'Stock_Price']].head())\n"
      ],
      "metadata": {
        "id": "XG6OJGZAq--d"
      },
      "execution_count": null,
      "outputs": []
    },
    {
      "cell_type": "code",
      "source": [
        "import random\n",
        "reddit_data['Sentiment_Score'] = [random.uniform(-1, 1) for _ in range(len(reddit_data))]\n",
        "\n",
        "reddit_data['Word_Count'] = reddit_data['Title'].apply(lambda x: len(x.split()))\n",
        "\n",
        "reddit_data['Normalized_Upvotes'] = reddit_data['Upvotes'] / reddit_data['Upvotes'].max()\n",
        "reddit_data['Normalized_Comments'] = reddit_data['Comments'] / reddit_data['Comments'].max()\n",
        "\n",
        "reddit_data['Stock_Movement'] = reddit_data['Stock_Price'].diff().apply(lambda x: 2 if x == 0 else (1 if x > 0 else 0))\n",
        "\n",
        "reddit_data = reddit_data.dropna(subset=['Stock_Price'])\n",
        "\n",
        "reddit_data['Stock_Movement_Label'] = reddit_data['Stock_Movement'].apply(\n",
        "    lambda x: 1 if x > 0 else (0 if x < 0 else 2)\n",
        ")\n",
        "\n",
        "print(reddit_data.head())\n"
      ],
      "metadata": {
        "id": "4UTogC8ErhVv"
      },
      "execution_count": null,
      "outputs": []
    },
    {
      "cell_type": "code",
      "source": [
        "from sklearn.model_selection import train_test_split\n",
        "\n",
        "X = reddit_data[['Sentiment_Score', 'Word_Count', 'Normalized_Upvotes', 'Normalized_Comments', 'Stock_Price']]\n",
        "y = reddit_data['Stock_Movement_Label']\n",
        "\n",
        "X_train, X_test, y_train, y_test = train_test_split(X, y, test_size=0.2, random_state=42)\n",
        "\n",
        "print(f\"Training data size: {X_train.shape}\")\n",
        "print(f\"Test data size: {X_test.shape}\")\n"
      ],
      "metadata": {
        "id": "BP7cSLegri6o"
      },
      "execution_count": null,
      "outputs": []
    },
    {
      "cell_type": "code",
      "source": [
        "from sklearn.ensemble import RandomForestClassifier\n",
        "from sklearn.metrics import classification_report, accuracy_score\n",
        "\n",
        "rf_model = RandomForestClassifier(n_estimators=100, random_state=42)\n",
        "\n",
        "rf_model.fit(X_train, y_train)\n",
        "\n",
        "y_pred = rf_model.predict(X_test)\n",
        "\n",
        "print(f\"Accuracy: {accuracy_score(y_test, y_pred)}\")\n",
        "print(\"Classification Report:\")\n",
        "print(classification_report(y_test, y_pred))\n"
      ],
      "metadata": {
        "id": "hWE0W3PSro8Q"
      },
      "execution_count": null,
      "outputs": []
    },
    {
      "cell_type": "code",
      "source": [
        "new_reddit_post = {\n",
        "    'Sentiment_Score': 0.3,\n",
        "    'Word_Count': 120,\n",
        "    'Normalized_Upvotes': 0.7,\n",
        "    'Normalized_Comments': 0.5,\n",
        "    'Stock_Price': 150\n",
        "}\n",
        "new_df = pd.DataFrame([new_reddit_post])\n",
        "\n",
        "predicted_movement = rf_model.predict(new_df)\n",
        "\n",
        "if predicted_movement == 1:\n",
        "    print(\"Predicted Stock Movement: Up\")\n",
        "elif predicted_movement == 0:\n",
        "    print(\"Predicted Stock Movement: Down\")\n",
        "else:\n",
        "    print(\"Predicted Stock Movement: Neutral\")\n"
      ],
      "metadata": {
        "id": "a0kw6Owzrt9X"
      },
      "execution_count": null,
      "outputs": []
    },
    {
      "cell_type": "code",
      "source": [
        "import matplotlib.pyplot as plt\n",
        "\n",
        "plt.figure(figsize=(10, 6))\n",
        "\n",
        "plt.plot(reddit_data['Created_Date'], reddit_data['Stock_Price'], label='Stock Price', color='blue')\n",
        "\n",
        "plt.scatter(reddit_data['Created_Date'], reddit_data['Stock_Price'], c=reddit_data['Stock_Movement_Label'], cmap='coolwarm', label='Predicted Movement')\n",
        "\n",
        "plt.title('Stock Prices and Predicted Movements')\n",
        "plt.xlabel('Date')\n",
        "plt.ylabel('Stock Price')\n",
        "plt.legend()\n",
        "plt.show()\n"
      ],
      "metadata": {
        "id": "G2Bj1MYxr-Dp"
      },
      "execution_count": null,
      "outputs": []
    }
  ],
  "metadata": {
    "colab": {
      "provenance": []
    },
    "kernelspec": {
      "display_name": "Python 3",
      "name": "python3"
    },
    "language_info": {
      "name": "python"
    }
  },
  "nbformat": 4,
  "nbformat_minor": 0
}
