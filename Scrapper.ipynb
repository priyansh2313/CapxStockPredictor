pip install praw





import praw

reddit = praw.Reddit(client_id='dso-2wKoiaavUz1AoA3BCQ',
                     client_secret='NkN503DNQF3R5aNrW9ebO_WC1TqEAA',
                     user_agent='StockDataScraper v1.0')

subreddits = ['stocks', 'investing', 'wallstreetbets', 'stockmarket', 'financialindependence']

for subreddit_name in subreddits:
    subreddit = reddit.subreddit(subreddit_name)

    print(f"Fetching posts from subreddit: {subreddit_name}")

    top_posts = subreddit.top(limit=500)  

    for post in top_posts:
        print(f"Title: {post.title}")
        print(f"Text: {post.selftext}")
        print(f"Score: {post.score}")
        print(f"URL: {post.url}")
        print('-' * 80)







subreddits = ['stocks', 'investing', 'StockMarket', 'wallstreetbets', 'finance']

all_posts = []

for subreddit in subreddits:
    print(f"Fetching posts from r/{subreddit}...")
    posts = reddit.subreddit(subreddit).search('stock', limit=2000)  
    for post in posts:
        all_posts.append({
            'Title': post.title,
            'Author': post.author.name if post.author else 'N/A',
            'Upvotes': post.score,
            'Comments': post.num_comments,
            'Created': post.created_utc,
            'URL': post.url
        })






import pandas as pd


df = pd.DataFrame(all_posts)


df.to_csv('reddit_combined_posts.csv', index=False)
print(f"Collected {len(df)} posts across all subreddits.")



import pandas as pd

data=pd.read_csv('/content/reddit_combined_posts.csv')
data.head()
